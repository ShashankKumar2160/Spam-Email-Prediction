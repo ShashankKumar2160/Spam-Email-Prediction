{
 "cells": [
  {
   "cell_type": "code",
   "execution_count": null,
   "id": "14ad0c4b",
   "metadata": {},
   "outputs": [],
   "source": [
    "import numpy as np\n",
    "import pandas as pd\n",
    "import matplotlib.pyplot as plt\n",
    "import seaborn as sns\n",
    "\n",
    "import string\n",
    "from nltk.corpus import stopwords\n",
    "import re\n",
    "from nltk.stem.porter import PorterStemmer\n",
    "\n",
    "\n",
    "from sklearn.linear_model import LogisticRegression\n",
    "from sklearn.svm import SVC\n",
    "from sklearn.neighbors import KNeighborsClassifier\n",
    "from sklearn.naive_bayes import MultinomialNB,GaussianNB,BernoulliNB\n",
    "from sklearn.tree import DecisionTreeClassifier\n",
    "from sklearn.ensemble import RandomForestClassifier,AdaBoostClassifier,BaggingClassifier,ExtraTreesClassifier,GradientBoostingClassifier\n",
    "from xgboost import XGBClassifier\n",
    "\n",
    "from sklearn.metrics import *\n",
    "from sklearn.model_selection import train_test_split\n",
    "from sklearn.feature_extraction.text import TfidfVectorizer,CountVectorizer\n",
    "from gensim.models import Word2Vec\n"
   ]
  },
  {
   "cell_type": "code",
   "execution_count": 3,
   "id": "83a7b799",
   "metadata": {},
   "outputs": [
    {
     "name": "stdout",
     "output_type": "stream",
     "text": [
      "  Category                                            Message\n",
      "0      ham  Go until jurong point, crazy.. Available only ...\n",
      "1      ham                      Ok lar... Joking wif u oni...\n",
      "2     spam  Free entry in 2 a wkly comp to win FA Cup fina...\n",
      "3      ham  U dun say so early hor... U c already then say...\n",
      "4      ham  Nah I don't think he goes to usf, he lives aro...\n"
     ]
    }
   ],
   "source": [
    "df = pd.read_csv('mail_data.csv')\n",
    "print(df.head())"
   ]
  },
  {
   "cell_type": "code",
   "execution_count": 4,
   "id": "c74f38c8",
   "metadata": {},
   "outputs": [
    {
     "name": "stdout",
     "output_type": "stream",
     "text": [
      "The number of null values in dataset is 0\n"
     ]
    }
   ],
   "source": [
    "print(f'The number of null values in dataset is {df.isnull().sum().sum()}')"
   ]
  },
  {
   "cell_type": "code",
   "execution_count": 5,
   "id": "accf6d1b",
   "metadata": {},
   "outputs": [],
   "source": [
    "## NO NULL VALUES"
   ]
  },
  {
   "cell_type": "markdown",
   "id": "608fd9e6",
   "metadata": {},
   "source": [
    "## Data Preprocessing"
   ]
  },
  {
   "cell_type": "code",
   "execution_count": 6,
   "id": "2e8733db",
   "metadata": {},
   "outputs": [
    {
     "name": "stdout",
     "output_type": "stream",
     "text": [
      "The number of duplicate values in dataset is 415\n"
     ]
    }
   ],
   "source": [
    "print(f'The number of duplicate values in dataset is {df.duplicated().sum()}')"
   ]
  },
  {
   "cell_type": "code",
   "execution_count": 7,
   "id": "6b78fc71",
   "metadata": {},
   "outputs": [
    {
     "name": "stdout",
     "output_type": "stream",
     "text": [
      "The number of duplicate values in dataset is 0\n"
     ]
    }
   ],
   "source": [
    "df.drop_duplicates(inplace=True)\n",
    "print(f'The number of duplicate values in dataset is {df.duplicated().sum()}')"
   ]
  },
  {
   "cell_type": "code",
   "execution_count": 8,
   "id": "87b9573c",
   "metadata": {},
   "outputs": [
    {
     "data": {
      "text/plain": [
       "Category    0\n",
       "Message     0\n",
       "dtype: int64"
      ]
     },
     "execution_count": 8,
     "metadata": {},
     "output_type": "execute_result"
    }
   ],
   "source": [
    "df.isnull().sum()"
   ]
  },
  {
   "cell_type": "code",
   "execution_count": 9,
   "id": "8dcee14b",
   "metadata": {},
   "outputs": [
    {
     "name": "stdout",
     "output_type": "stream",
     "text": [
      "Go until jurong point, crazy.. Available only in bugis n great world la e buffet... Cine there got amore wat...\n",
      "Ok lar... Joking wif u oni...\n",
      "Free entry in 2 a wkly comp to win FA Cup final tkts 21st May 2005. Text FA to 87121 to receive entry question(std txt rate)T&C's apply 08452810075over18's\n"
     ]
    }
   ],
   "source": [
    "#Observing starting lines\n",
    "print(df['Message'][0])\n",
    "print(df['Message'][1])\n",
    "print(df['Message'][2])"
   ]
  },
  {
   "cell_type": "markdown",
   "id": "c637d855",
   "metadata": {},
   "source": [
    "## Text Preprocessing"
   ]
  },
  {
   "cell_type": "code",
   "execution_count": 10,
   "id": "c56f1cf8",
   "metadata": {},
   "outputs": [
    {
     "data": {
      "text/html": [
       "<div>\n",
       "<style scoped>\n",
       "    .dataframe tbody tr th:only-of-type {\n",
       "        vertical-align: middle;\n",
       "    }\n",
       "\n",
       "    .dataframe tbody tr th {\n",
       "        vertical-align: top;\n",
       "    }\n",
       "\n",
       "    .dataframe thead th {\n",
       "        text-align: right;\n",
       "    }\n",
       "</style>\n",
       "<table border=\"1\" class=\"dataframe\">\n",
       "  <thead>\n",
       "    <tr style=\"text-align: right;\">\n",
       "      <th></th>\n",
       "      <th>Category</th>\n",
       "      <th>Message</th>\n",
       "    </tr>\n",
       "  </thead>\n",
       "  <tbody>\n",
       "    <tr>\n",
       "      <th>0</th>\n",
       "      <td>ham</td>\n",
       "      <td>go until jurong point, crazy.. available only ...</td>\n",
       "    </tr>\n",
       "    <tr>\n",
       "      <th>1</th>\n",
       "      <td>ham</td>\n",
       "      <td>ok lar... joking wif u oni...</td>\n",
       "    </tr>\n",
       "    <tr>\n",
       "      <th>2</th>\n",
       "      <td>spam</td>\n",
       "      <td>free entry in 2 a wkly comp to win fa cup fina...</td>\n",
       "    </tr>\n",
       "    <tr>\n",
       "      <th>3</th>\n",
       "      <td>ham</td>\n",
       "      <td>u dun say so early hor... u c already then say...</td>\n",
       "    </tr>\n",
       "    <tr>\n",
       "      <th>4</th>\n",
       "      <td>ham</td>\n",
       "      <td>nah i don't think he goes to usf, he lives aro...</td>\n",
       "    </tr>\n",
       "  </tbody>\n",
       "</table>\n",
       "</div>"
      ],
      "text/plain": [
       "  Category                                            Message\n",
       "0      ham  go until jurong point, crazy.. available only ...\n",
       "1      ham                      ok lar... joking wif u oni...\n",
       "2     spam  free entry in 2 a wkly comp to win fa cup fina...\n",
       "3      ham  u dun say so early hor... u c already then say...\n",
       "4      ham  nah i don't think he goes to usf, he lives aro..."
      ]
     },
     "execution_count": 10,
     "metadata": {},
     "output_type": "execute_result"
    }
   ],
   "source": [
    "## Converting capital to small letters\n",
    "df['Message'] = df['Message'].str.lower()\n",
    "df.head()"
   ]
  },
  {
   "cell_type": "code",
   "execution_count": 11,
   "id": "cb183f1d",
   "metadata": {},
   "outputs": [
    {
     "name": "stderr",
     "output_type": "stream",
     "text": [
      "C:\\Users\\deeps\\AppData\\Local\\Temp\\ipykernel_11904\\785105513.py:4: FutureWarning: The default value of regex will change from True to False in a future version.\n",
      "  df['Message'] = df['Message'].str.replace(r'^https?:\\/\\/.*[\\r\\n]*','')\n"
     ]
    }
   ],
   "source": [
    "df['Message'] = df['Message'].str.replace('#','')\n",
    "df['Message'] = df['Message'].str.replace('@','')\n",
    "# Remove urls\n",
    "df['Message'] = df['Message'].str.replace(r'^https?:\\/\\/.*[\\r\\n]*','')"
   ]
  },
  {
   "cell_type": "code",
   "execution_count": 12,
   "id": "c932666c",
   "metadata": {},
   "outputs": [
    {
     "data": {
      "text/html": [
       "<div>\n",
       "<style scoped>\n",
       "    .dataframe tbody tr th:only-of-type {\n",
       "        vertical-align: middle;\n",
       "    }\n",
       "\n",
       "    .dataframe tbody tr th {\n",
       "        vertical-align: top;\n",
       "    }\n",
       "\n",
       "    .dataframe thead th {\n",
       "        text-align: right;\n",
       "    }\n",
       "</style>\n",
       "<table border=\"1\" class=\"dataframe\">\n",
       "  <thead>\n",
       "    <tr style=\"text-align: right;\">\n",
       "      <th></th>\n",
       "      <th>Category</th>\n",
       "      <th>Message</th>\n",
       "    </tr>\n",
       "  </thead>\n",
       "  <tbody>\n",
       "    <tr>\n",
       "      <th>0</th>\n",
       "      <td>ham</td>\n",
       "      <td>go until jurong point crazy available only in ...</td>\n",
       "    </tr>\n",
       "    <tr>\n",
       "      <th>1</th>\n",
       "      <td>ham</td>\n",
       "      <td>ok lar joking wif u oni</td>\n",
       "    </tr>\n",
       "    <tr>\n",
       "      <th>2</th>\n",
       "      <td>spam</td>\n",
       "      <td>free entry in 2 a wkly comp to win fa cup fina...</td>\n",
       "    </tr>\n",
       "    <tr>\n",
       "      <th>3</th>\n",
       "      <td>ham</td>\n",
       "      <td>u dun say so early hor u c already then say</td>\n",
       "    </tr>\n",
       "    <tr>\n",
       "      <th>4</th>\n",
       "      <td>ham</td>\n",
       "      <td>nah i dont think he goes to usf he lives aroun...</td>\n",
       "    </tr>\n",
       "  </tbody>\n",
       "</table>\n",
       "</div>"
      ],
      "text/plain": [
       "  Category                                            Message\n",
       "0      ham  go until jurong point crazy available only in ...\n",
       "1      ham                            ok lar joking wif u oni\n",
       "2     spam  free entry in 2 a wkly comp to win fa cup fina...\n",
       "3      ham        u dun say so early hor u c already then say\n",
       "4      ham  nah i dont think he goes to usf he lives aroun..."
      ]
     },
     "execution_count": 12,
     "metadata": {},
     "output_type": "execute_result"
    }
   ],
   "source": [
    "# Remove Punctuations\n",
    "df['Message'] = df['Message'].str.translate(str.maketrans('','',string.punctuation))\n",
    "\n",
    "df.head()"
   ]
  },
  {
   "cell_type": "code",
   "execution_count": 13,
   "id": "1581835d",
   "metadata": {},
   "outputs": [
    {
     "data": {
      "text/html": [
       "<div>\n",
       "<style scoped>\n",
       "    .dataframe tbody tr th:only-of-type {\n",
       "        vertical-align: middle;\n",
       "    }\n",
       "\n",
       "    .dataframe tbody tr th {\n",
       "        vertical-align: top;\n",
       "    }\n",
       "\n",
       "    .dataframe thead th {\n",
       "        text-align: right;\n",
       "    }\n",
       "</style>\n",
       "<table border=\"1\" class=\"dataframe\">\n",
       "  <thead>\n",
       "    <tr style=\"text-align: right;\">\n",
       "      <th></th>\n",
       "      <th>Category</th>\n",
       "      <th>Message</th>\n",
       "    </tr>\n",
       "  </thead>\n",
       "  <tbody>\n",
       "    <tr>\n",
       "      <th>0</th>\n",
       "      <td>ham</td>\n",
       "      <td>go jurong point crazy available bugis n great ...</td>\n",
       "    </tr>\n",
       "    <tr>\n",
       "      <th>1</th>\n",
       "      <td>ham</td>\n",
       "      <td>ok lar joking wif u oni</td>\n",
       "    </tr>\n",
       "    <tr>\n",
       "      <th>2</th>\n",
       "      <td>spam</td>\n",
       "      <td>free entry 2 wkly comp win fa cup final tkts 2...</td>\n",
       "    </tr>\n",
       "    <tr>\n",
       "      <th>3</th>\n",
       "      <td>ham</td>\n",
       "      <td>u dun say early hor u c already say</td>\n",
       "    </tr>\n",
       "    <tr>\n",
       "      <th>4</th>\n",
       "      <td>ham</td>\n",
       "      <td>nah dont think goes usf lives around though</td>\n",
       "    </tr>\n",
       "  </tbody>\n",
       "</table>\n",
       "</div>"
      ],
      "text/plain": [
       "  Category                                            Message\n",
       "0      ham  go jurong point crazy available bugis n great ...\n",
       "1      ham                            ok lar joking wif u oni\n",
       "2     spam  free entry 2 wkly comp win fa cup final tkts 2...\n",
       "3      ham                u dun say early hor u c already say\n",
       "4      ham        nah dont think goes usf lives around though"
      ]
     },
     "execution_count": 13,
     "metadata": {},
     "output_type": "execute_result"
    }
   ],
   "source": [
    "# Initialize stopwords\n",
    "stop_words = set(stopwords.words('english'))\n",
    "\n",
    "df['Message'] = df['Message'].apply(lambda x : ' '.join([word for word in x.split() if word not in (stop_words)]))\n",
    "\n",
    "df.head()"
   ]
  },
  {
   "cell_type": "code",
   "execution_count": 14,
   "id": "85c4f37c",
   "metadata": {},
   "outputs": [
    {
     "data": {
      "text/html": [
       "<div>\n",
       "<style scoped>\n",
       "    .dataframe tbody tr th:only-of-type {\n",
       "        vertical-align: middle;\n",
       "    }\n",
       "\n",
       "    .dataframe tbody tr th {\n",
       "        vertical-align: top;\n",
       "    }\n",
       "\n",
       "    .dataframe thead th {\n",
       "        text-align: right;\n",
       "    }\n",
       "</style>\n",
       "<table border=\"1\" class=\"dataframe\">\n",
       "  <thead>\n",
       "    <tr style=\"text-align: right;\">\n",
       "      <th></th>\n",
       "      <th>Category</th>\n",
       "      <th>Message</th>\n",
       "    </tr>\n",
       "  </thead>\n",
       "  <tbody>\n",
       "    <tr>\n",
       "      <th>0</th>\n",
       "      <td>ham</td>\n",
       "      <td>go jurong point crazy available bugis n great ...</td>\n",
       "    </tr>\n",
       "    <tr>\n",
       "      <th>1</th>\n",
       "      <td>ham</td>\n",
       "      <td>ok lar joking wif u oni</td>\n",
       "    </tr>\n",
       "    <tr>\n",
       "      <th>2</th>\n",
       "      <td>spam</td>\n",
       "      <td>free entry 2 wkly comp win fa cup final tkts 2...</td>\n",
       "    </tr>\n",
       "    <tr>\n",
       "      <th>3</th>\n",
       "      <td>ham</td>\n",
       "      <td>u dun say early hor u c already say</td>\n",
       "    </tr>\n",
       "    <tr>\n",
       "      <th>4</th>\n",
       "      <td>ham</td>\n",
       "      <td>nah dont think goes usf lives around though</td>\n",
       "    </tr>\n",
       "  </tbody>\n",
       "</table>\n",
       "</div>"
      ],
      "text/plain": [
       "  Category                                            Message\n",
       "0      ham  go jurong point crazy available bugis n great ...\n",
       "1      ham                            ok lar joking wif u oni\n",
       "2     spam  free entry 2 wkly comp win fa cup final tkts 2...\n",
       "3      ham                u dun say early hor u c already say\n",
       "4      ham        nah dont think goes usf lives around though"
      ]
     },
     "execution_count": 14,
     "metadata": {},
     "output_type": "execute_result"
    }
   ],
   "source": [
    "# Handling ChatWords\n",
    "chat_words = {\n",
    "    \"LOL\": \"laugh out loud\",\n",
    "    \"BRB\": \"be right back\",\n",
    "    \"OMG\": \"oh my god\",\n",
    "    \"IDK\": \"i don't know\",\n",
    "    \"BTW\": \"by the way\"\n",
    "}\n",
    "\n",
    "def chat_conversion(text):\n",
    "    new_text = []\n",
    "    for word in text.split():\n",
    "        if word.upper() in chat_words:\n",
    "            new_text.append(chat_words[word.upper()])\n",
    "        else:\n",
    "            new_text.append(word)\n",
    "    return' '.join(new_text)\n",
    "\n",
    "df['Message'] = df['Message'].apply(chat_conversion)\n",
    "\n",
    "df.head()"
   ]
  },
  {
   "cell_type": "code",
   "execution_count": 15,
   "id": "acaeebbb",
   "metadata": {},
   "outputs": [
    {
     "data": {
      "text/html": [
       "<div>\n",
       "<style scoped>\n",
       "    .dataframe tbody tr th:only-of-type {\n",
       "        vertical-align: middle;\n",
       "    }\n",
       "\n",
       "    .dataframe tbody tr th {\n",
       "        vertical-align: top;\n",
       "    }\n",
       "\n",
       "    .dataframe thead th {\n",
       "        text-align: right;\n",
       "    }\n",
       "</style>\n",
       "<table border=\"1\" class=\"dataframe\">\n",
       "  <thead>\n",
       "    <tr style=\"text-align: right;\">\n",
       "      <th></th>\n",
       "      <th>Category</th>\n",
       "      <th>Message</th>\n",
       "      <th>text_sent_token</th>\n",
       "    </tr>\n",
       "  </thead>\n",
       "  <tbody>\n",
       "    <tr>\n",
       "      <th>0</th>\n",
       "      <td>ham</td>\n",
       "      <td>go jurong point crazy available bugis n great ...</td>\n",
       "      <td>[go jurong point crazy available bugis n great...</td>\n",
       "    </tr>\n",
       "    <tr>\n",
       "      <th>1</th>\n",
       "      <td>ham</td>\n",
       "      <td>ok lar joking wif u oni</td>\n",
       "      <td>[ok lar joking wif u oni]</td>\n",
       "    </tr>\n",
       "    <tr>\n",
       "      <th>2</th>\n",
       "      <td>spam</td>\n",
       "      <td>free entry 2 wkly comp win fa cup final tkts 2...</td>\n",
       "      <td>[free entry 2 wkly comp win fa cup final tkts ...</td>\n",
       "    </tr>\n",
       "    <tr>\n",
       "      <th>3</th>\n",
       "      <td>ham</td>\n",
       "      <td>u dun say early hor u c already say</td>\n",
       "      <td>[u dun say early hor u c already say]</td>\n",
       "    </tr>\n",
       "    <tr>\n",
       "      <th>4</th>\n",
       "      <td>ham</td>\n",
       "      <td>nah dont think goes usf lives around though</td>\n",
       "      <td>[nah dont think goes usf lives around though]</td>\n",
       "    </tr>\n",
       "  </tbody>\n",
       "</table>\n",
       "</div>"
      ],
      "text/plain": [
       "  Category                                            Message  \\\n",
       "0      ham  go jurong point crazy available bugis n great ...   \n",
       "1      ham                            ok lar joking wif u oni   \n",
       "2     spam  free entry 2 wkly comp win fa cup final tkts 2...   \n",
       "3      ham                u dun say early hor u c already say   \n",
       "4      ham        nah dont think goes usf lives around though   \n",
       "\n",
       "                                     text_sent_token  \n",
       "0  [go jurong point crazy available bugis n great...  \n",
       "1                          [ok lar joking wif u oni]  \n",
       "2  [free entry 2 wkly comp win fa cup final tkts ...  \n",
       "3              [u dun say early hor u c already say]  \n",
       "4      [nah dont think goes usf lives around though]  "
      ]
     },
     "execution_count": 15,
     "metadata": {},
     "output_type": "execute_result"
    }
   ],
   "source": [
    "from nltk.tokenize import sent_tokenize\n",
    "\n",
    "# Apply sent_tokenize\n",
    "df['text_sent_token'] = df['Message'].apply(sent_tokenize)\n",
    "\n",
    "# Head\n",
    "df.head()"
   ]
  },
  {
   "cell_type": "code",
   "execution_count": 16,
   "id": "e0412dd7",
   "metadata": {},
   "outputs": [
    {
     "name": "stderr",
     "output_type": "stream",
     "text": [
      "[nltk_data] Downloading package punkt to C:\\Users\\deeps/nltk_data...\n",
      "[nltk_data]   Package punkt is already up-to-date!\n",
      "[nltk_data] Downloading package stopwords to\n",
      "[nltk_data]     C:\\Users\\deeps/nltk_data...\n",
      "[nltk_data]   Package stopwords is already up-to-date!\n",
      "[nltk_data] Downloading package wordnet to C:\\Users\\deeps/nltk_data...\n",
      "[nltk_data]   Package wordnet is already up-to-date!\n"
     ]
    },
    {
     "data": {
      "text/plain": [
       "True"
      ]
     },
     "execution_count": 16,
     "metadata": {},
     "output_type": "execute_result"
    }
   ],
   "source": [
    "import nltk\n",
    "nltk.download('punkt')\n",
    "nltk.download('stopwords')\n",
    "nltk.download('wordnet')"
   ]
  },
  {
   "cell_type": "code",
   "execution_count": 18,
   "id": "e63d68ee",
   "metadata": {},
   "outputs": [
    {
     "data": {
      "text/html": [
       "<div>\n",
       "<style scoped>\n",
       "    .dataframe tbody tr th:only-of-type {\n",
       "        vertical-align: middle;\n",
       "    }\n",
       "\n",
       "    .dataframe tbody tr th {\n",
       "        vertical-align: top;\n",
       "    }\n",
       "\n",
       "    .dataframe thead th {\n",
       "        text-align: right;\n",
       "    }\n",
       "</style>\n",
       "<table border=\"1\" class=\"dataframe\">\n",
       "  <thead>\n",
       "    <tr style=\"text-align: right;\">\n",
       "      <th></th>\n",
       "      <th>Category</th>\n",
       "      <th>Message</th>\n",
       "      <th>text_sent_token</th>\n",
       "      <th>stem_msg</th>\n",
       "    </tr>\n",
       "  </thead>\n",
       "  <tbody>\n",
       "    <tr>\n",
       "      <th>0</th>\n",
       "      <td>ham</td>\n",
       "      <td>go jurong point crazy available bugis n great ...</td>\n",
       "      <td>[go jurong point crazy available bugis n great...</td>\n",
       "      <td>go jurong point crazi avail bugi n great world...</td>\n",
       "    </tr>\n",
       "    <tr>\n",
       "      <th>1</th>\n",
       "      <td>ham</td>\n",
       "      <td>ok lar joking wif u oni</td>\n",
       "      <td>[ok lar joking wif u oni]</td>\n",
       "      <td>ok lar joke wif u oni</td>\n",
       "    </tr>\n",
       "    <tr>\n",
       "      <th>2</th>\n",
       "      <td>spam</td>\n",
       "      <td>free entry 2 wkly comp win fa cup final tkts 2...</td>\n",
       "      <td>[free entry 2 wkly comp win fa cup final tkts ...</td>\n",
       "      <td>free entri 2 wkli comp win fa cup final tkt 21...</td>\n",
       "    </tr>\n",
       "    <tr>\n",
       "      <th>3</th>\n",
       "      <td>ham</td>\n",
       "      <td>u dun say early hor u c already say</td>\n",
       "      <td>[u dun say early hor u c already say]</td>\n",
       "      <td>u dun say earli hor u c alreadi say</td>\n",
       "    </tr>\n",
       "    <tr>\n",
       "      <th>4</th>\n",
       "      <td>ham</td>\n",
       "      <td>nah dont think goes usf lives around though</td>\n",
       "      <td>[nah dont think goes usf lives around though]</td>\n",
       "      <td>nah dont think goe usf live around though</td>\n",
       "    </tr>\n",
       "  </tbody>\n",
       "</table>\n",
       "</div>"
      ],
      "text/plain": [
       "  Category                                            Message  \\\n",
       "0      ham  go jurong point crazy available bugis n great ...   \n",
       "1      ham                            ok lar joking wif u oni   \n",
       "2     spam  free entry 2 wkly comp win fa cup final tkts 2...   \n",
       "3      ham                u dun say early hor u c already say   \n",
       "4      ham        nah dont think goes usf lives around though   \n",
       "\n",
       "                                     text_sent_token  \\\n",
       "0  [go jurong point crazy available bugis n great...   \n",
       "1                          [ok lar joking wif u oni]   \n",
       "2  [free entry 2 wkly comp win fa cup final tkts ...   \n",
       "3              [u dun say early hor u c already say]   \n",
       "4      [nah dont think goes usf lives around though]   \n",
       "\n",
       "                                            stem_msg  \n",
       "0  go jurong point crazi avail bugi n great world...  \n",
       "1                              ok lar joke wif u oni  \n",
       "2  free entri 2 wkli comp win fa cup final tkt 21...  \n",
       "3                u dun say earli hor u c alreadi say  \n",
       "4          nah dont think goe usf live around though  "
      ]
     },
     "execution_count": 18,
     "metadata": {},
     "output_type": "execute_result"
    }
   ],
   "source": [
    "stemmer = PorterStemmer()\n",
    "def stem_words(text):\n",
    "    return \" \".join([stemmer.stem(word) for word in text.split()])\n",
    "\n",
    "df['stem_msg'] = df['Message'].apply(stem_words)\n",
    "\n",
    "df.head()"
   ]
  },
  {
   "cell_type": "markdown",
   "id": "2b9264bf",
   "metadata": {},
   "source": [
    "## Model Building\n",
    "#### Converting text to numbers"
   ]
  },
  {
   "cell_type": "code",
   "execution_count": 19,
   "id": "7f7c1b0c",
   "metadata": {},
   "outputs": [],
   "source": [
    "## Text Vectorization\n",
    "cv = CountVectorizer()\n",
    "\n",
    "X = cv.fit_transform(df['stem_msg']).toarray()"
   ]
  },
  {
   "cell_type": "code",
   "execution_count": 20,
   "id": "5ccfa3b2",
   "metadata": {},
   "outputs": [
    {
     "data": {
      "text/plain": [
       "(5157, 8091)"
      ]
     },
     "execution_count": 20,
     "metadata": {},
     "output_type": "execute_result"
    }
   ],
   "source": [
    "X.shape"
   ]
  },
  {
   "cell_type": "code",
   "execution_count": 21,
   "id": "74ed19f5",
   "metadata": {},
   "outputs": [],
   "source": [
    "y = df['Category']"
   ]
  },
  {
   "cell_type": "code",
   "execution_count": 22,
   "id": "94b9734e",
   "metadata": {},
   "outputs": [
    {
     "data": {
      "text/plain": [
       "(5157,)"
      ]
     },
     "execution_count": 22,
     "metadata": {},
     "output_type": "execute_result"
    }
   ],
   "source": [
    "y.shape"
   ]
  },
  {
   "cell_type": "code",
   "execution_count": 23,
   "id": "34ab918e",
   "metadata": {},
   "outputs": [
    {
     "data": {
      "text/plain": [
       "array([0, 0, 1, ..., 0, 0, 0])"
      ]
     },
     "execution_count": 23,
     "metadata": {},
     "output_type": "execute_result"
    }
   ],
   "source": [
    "from sklearn.preprocessing import LabelEncoder\n",
    "\n",
    "le = LabelEncoder()\n",
    "\n",
    "y = le.fit_transform(y)\n",
    "\n",
    "y"
   ]
  },
  {
   "cell_type": "code",
   "execution_count": 24,
   "id": "2fa79399",
   "metadata": {},
   "outputs": [],
   "source": [
    "## Train Test Split\n",
    "\n",
    "X_train, X_test, y_train, y_test = train_test_split(X, y, test_size=0.2, random_state=0)"
   ]
  },
  {
   "cell_type": "code",
   "execution_count": 32,
   "id": "f934d68a",
   "metadata": {},
   "outputs": [],
   "source": [
    "from sklearn.neighbors import KNeighborsClassifier\n",
    "from sklearn.ensemble import ExtraTreesClassifier"
   ]
  },
  {
   "cell_type": "code",
   "execution_count": 34,
   "id": "fae301f5",
   "metadata": {},
   "outputs": [],
   "source": [
    "## Initialize Models\n",
    "# Support Vector Machine\n",
    "svc = SVC(kernel='sigmoid',gamma=1.0)\n",
    "# KNeighbours\n",
    "knc = KNeighborsClassifier()\n",
    "# Decision Tree\n",
    "dtc = DecisionTreeClassifier()\n",
    "# Random Forest\n",
    "rfc = RandomForestClassifier(n_estimators=50,random_state=2)\n",
    "# Multinomial Naive Bayes\n",
    "mnb = MultinomialNB()\n",
    "# Logistic Regression\n",
    "lrc = LogisticRegression(solver='liblinear',penalty='l1')\n",
    "# AdaBoost\n",
    "abc = AdaBoostClassifier(n_estimators=50,random_state=2)\n",
    "# Extra Tree Classifier\n",
    "etc = ExtraTreesClassifier(n_estimators=50,random_state=2)\n",
    "#XGB Classifier\n",
    "xgb = XGBClassifier(n_estimators=50,random_state=2)"
   ]
  },
  {
   "cell_type": "code",
   "execution_count": 35,
   "id": "f0b6d7f4",
   "metadata": {},
   "outputs": [],
   "source": [
    "# Support Vector Machine\n",
    "svc.fit(X_train ,y_train)\n",
    "# Pred \n",
    "svc_pred = svc.predict(X_test)\n",
    "#-----------------------------\n",
    "# 2. KNeighbours\n",
    "knc.fit(X_train ,y_train)\n",
    "# Pred \n",
    "knn_pred = knc.predict(X_test)\n",
    "#-----------------------------\n",
    "# 3. Multinomial NaiveBayes\n",
    "mnb.fit(X_train ,y_train)\n",
    "# Pred \n",
    "mnb_pred = mnb.predict(X_test)\n",
    "#-----------------------------\n",
    "# 4. Decision Tree\n",
    "dtc.fit(X_train ,y_train)\n",
    "# Pred \n",
    "dtc_pred = dtc.predict(X_test)\n",
    "#-----------------------------\n",
    "# 5. Logistic Regression\n",
    "lrc.fit(X_train ,y_train)\n",
    "# Pred \n",
    "lrc_pred = lrc.predict(X_test)\n",
    "#-----------------------------\n",
    "# 6. Random Forest Classifier\n",
    "rfc.fit(X_train ,y_train)\n",
    "# Pred \n",
    "rfc_pred = rfc.predict(X_test)\n",
    "#-----------------------------\n",
    "# 7. AddaBoost Classifier\n",
    "abc.fit(X_train ,y_train)\n",
    "# Pred \n",
    "abc_pred = abc.predict(X_test)\n",
    "#-----------------------------\n",
    "# 8.Extra Tree Classifier a Ensemble Method\n",
    "etc.fit(X_train ,y_train)\n",
    "# Pred \n",
    "etc_pred = etc.predict(X_test)\n",
    "#-----------------------------\n",
    "# 9. XGB Classifier\n",
    "xgb.fit(X_train ,y_train)\n",
    "# Pred \n",
    "xgb_pred = xgb.predict(X_test)"
   ]
  },
  {
   "cell_type": "markdown",
   "id": "3450e8a7",
   "metadata": {},
   "source": [
    "## Evaluation"
   ]
  },
  {
   "cell_type": "code",
   "execution_count": 36,
   "id": "ee88ce80",
   "metadata": {},
   "outputs": [],
   "source": [
    "from sklearn.metrics import accuracy_score,precision_score,confusion_matrix\n",
    "\n",
    "def evaluate_model(y_test,y_pred):\n",
    "    accuracy = accuracy_score(y_test,y_pred)\n",
    "    precision = precision_score(y_test,y_pred)\n",
    "    confusion = confusion_matrix(y_test,y_pred)\n",
    "    return accuracy,precision,confusion"
   ]
  },
  {
   "cell_type": "code",
   "execution_count": 37,
   "id": "e3277753",
   "metadata": {},
   "outputs": [
    {
     "name": "stdout",
     "output_type": "stream",
     "text": [
      "Support Vector Machine Accuracy: 0.9273255813953488\n",
      "Support Vector Machine Precision: 0.75\n",
      "Support Vector Machine Confusion Matrix: \n",
      "[[867  30]\n",
      " [ 45  90]]\n",
      "--------------------------------------------------\n",
      "KNeighbours Accuracy: 0.9069767441860465\n",
      "KNeighbours Precision: 1.0\n",
      "KNeighbours Confusion Matrix: \n",
      "[[897   0]\n",
      " [ 96  39]]\n",
      "--------------------------------------------------\n",
      "Multinomial Naive Bayes Accuracy: 0.9709302325581395\n",
      "Multinomial Naive Bayes Precision: 0.8671328671328671\n",
      "Multinomial Naive Bayes Confusion Matrix: \n",
      "[[878  19]\n",
      " [ 11 124]]\n",
      "--------------------------------------------------\n",
      "Decision Tree Accuracy: 0.9660852713178295\n",
      "Decision Tree Precision: 0.9032258064516129\n",
      "Decision Tree Confusion Matrix: \n",
      "[[885  12]\n",
      " [ 23 112]]\n",
      "--------------------------------------------------\n",
      "Logistic Regression Accuracy: 0.9757751937984496\n",
      "Logistic Regression Precision: 0.9661016949152542\n",
      "Logistic Regression Confusion Matrix: \n",
      "[[893   4]\n",
      " [ 21 114]]\n",
      "--------------------------------------------------\n",
      "Random Forest Classifier Accuracy: 0.9689922480620154\n",
      "Random Forest Classifier Precision: 1.0\n",
      "Random Forest Classifier Confusion Matrix: \n",
      "[[897   0]\n",
      " [ 32 103]]\n",
      "--------------------------------------------------\n",
      "AdaBoost Classifier Accuracy: 0.9573643410852714\n",
      "AdaBoost Classifier Precision: 0.9252336448598131\n",
      "AdaBoost Classifier Confusion Matrix: \n",
      "[[889   8]\n",
      " [ 36  99]]\n",
      "--------------------------------------------------\n",
      "Extra Tree Classifier Accuracy: 0.9748062015503876\n",
      "Extra Tree Classifier Precision: 1.0\n",
      "Extra Tree Classifier Confusion Matrix: \n",
      "[[897   0]\n",
      " [ 26 109]]\n",
      "--------------------------------------------------\n",
      "XGB Classifier Accuracy: 0.9748062015503876\n",
      "XGB Classifier Precision: 1.0\n",
      "XGB Classifier Confusion Matrix: \n",
      "[[897   0]\n",
      " [ 26 109]]\n",
      "--------------------------------------------------\n"
     ]
    }
   ],
   "source": [
    "#Evaluate Models\n",
    "# 1. SVC\n",
    "accuracy_svc,precision_svc,confusion_svc = evaluate_model(y_test,svc_pred)\n",
    "print(f'Support Vector Machine Accuracy: {accuracy_svc}')\n",
    "print(f'Support Vector Machine Precision: {precision_svc}')\n",
    "print(f'Support Vector Machine Confusion Matrix: \\n{confusion_svc}')\n",
    "print('--------------------------------------------------')\n",
    "\n",
    "# 2. KNeighbours\n",
    "accuracy_knc, precision_knc, confusion_knc = evaluate_model(y_test,knn_pred)\n",
    "print(f'KNeighbours Accuracy: {accuracy_knc}')\n",
    "print(f'KNeighbours Precision: {precision_knc}')\n",
    "print(f'KNeighbours Confusion Matrix: \\n{confusion_knc}')\n",
    "print('--------------------------------------------------')\n",
    "\n",
    "# 3. Multinomial NaiveBayes\n",
    "accuracy_mnb, precision_mnb, confusion_mnb = evaluate_model(y_test,mnb_pred)\n",
    "print(f'Multinomial Naive Bayes Accuracy: {accuracy_mnb}')\n",
    "print(f'Multinomial Naive Bayes Precision: {precision_mnb}')\n",
    "print(f'Multinomial Naive Bayes Confusion Matrix: \\n{confusion_mnb}')\n",
    "print('--------------------------------------------------')\n",
    "\n",
    "# 4. Decision Tree\n",
    "accuracy_dtc, precision_dtc, confusion_dtc = evaluate_model(y_test,dtc_pred)\n",
    "print(f'Decision Tree Accuracy: {accuracy_dtc}')\n",
    "print(f'Decision Tree Precision: {precision_dtc}')\n",
    "print(f'Decision Tree Confusion Matrix: \\n{confusion_dtc}')\n",
    "print('--------------------------------------------------')\n",
    "\n",
    "# 5. Logistic Regression\n",
    "accuracy_lrc, precision_lrc, confusion_lrc = evaluate_model(y_test,lrc_pred)\n",
    "print(f'Logistic Regression Accuracy: {accuracy_lrc}')\n",
    "print(f'Logistic Regression Precision: {precision_lrc}')\n",
    "print(f'Logistic Regression Confusion Matrix: \\n{confusion_lrc}')\n",
    "print('--------------------------------------------------')\n",
    "\n",
    "# 6. Random Forest Classifier\n",
    "accuracy_rfc, precision_rfc, confusion_rfc = evaluate_model(y_test,rfc_pred)\n",
    "print(f'Random Forest Classifier Accuracy: {accuracy_rfc}')\n",
    "print(f'Random Forest Classifier Precision: {precision_rfc}')\n",
    "print(f'Random Forest Classifier Confusion Matrix: \\n{confusion_rfc}')\n",
    "print('--------------------------------------------------')\n",
    "\n",
    "# 7. AdaBoost Classifier\n",
    "accuracy_abc, precision_abc, confusion_abc = evaluate_model(y_test,abc_pred)\n",
    "print(f'AdaBoost Classifier Accuracy: {accuracy_abc}')\n",
    "print(f'AdaBoost Classifier Precision: {precision_abc}')\n",
    "print(f'AdaBoost Classifier Confusion Matrix: \\n{confusion_abc}')\n",
    "print('--------------------------------------------------')\n",
    "\n",
    "# 8. Extra Tree Classifier\n",
    "accuracy_etc, precision_etc, confusion_etc = evaluate_model(y_test,etc_pred)\n",
    "print(f'Extra Tree Classifier Accuracy: {accuracy_etc}')\n",
    "print(f'Extra Tree Classifier Precision: {precision_etc}')\n",
    "print(f'Extra Tree Classifier Confusion Matrix: \\n{confusion_etc}')\n",
    "print('--------------------------------------------------')\n",
    "\n",
    "# 9. XGB Classifier\n",
    "accuracy_xgb, precision_xgb, confusion_xgb = evaluate_model(y_test,xgb_pred)\n",
    "print(f'XGB Classifier Accuracy: {accuracy_xgb}')\n",
    "print(f'XGB Classifier Precision: {precision_xgb}')\n",
    "print(f'XGB Classifier Confusion Matrix: \\n{confusion_xgb}')\n",
    "print('--------------------------------------------------')"
   ]
  },
  {
   "cell_type": "markdown",
   "id": "38042fff",
   "metadata": {},
   "source": [
    "## Dataframe for storing Results"
   ]
  },
  {
   "cell_type": "code",
   "execution_count": null,
   "id": "3960aa62",
   "metadata": {},
   "outputs": [],
   "source": [
    "evaluation_data = {\n",
    "    'Model' : ['SVC', 'KNeighbours', 'Multinomial Naive Bayes', 'Decision Tree', 'Logistic Regression', 'Random Forest Classifier', 'AdaBoost Classifier', 'Extra Tree Classifier', 'XGB Classifier'],\n",
    "    'Accuracy' : [accuracy_svc, accuracy_knc, accuracy_mnb, accuracy_dtc, accuracy_lrc, accuracy_rfc, accuracy_abc, accuracy_etc, accuracy_xgb],\n",
    "    'Precision' : [precision_svc, precision_knc, precision_mnb, precision_dtc, precision_lrc, precision_rfc, precision_abc, precision_etc, precision_xgb]\n",
    "}\n",
    "\n",
    "evaluation_df = pd.DataFrame(evaluation_data)"
   ]
  },
  {
   "cell_type": "code",
   "execution_count": 39,
   "id": "79c530d6",
   "metadata": {},
   "outputs": [],
   "source": [
    "evaluation_df =  evaluation_df.sort_values(by=['Accuracy','Precision'],ascending=False)"
   ]
  },
  {
   "cell_type": "code",
   "execution_count": 40,
   "id": "6e5b0f96",
   "metadata": {},
   "outputs": [
    {
     "data": {
      "text/html": [
       "<div>\n",
       "<style scoped>\n",
       "    .dataframe tbody tr th:only-of-type {\n",
       "        vertical-align: middle;\n",
       "    }\n",
       "\n",
       "    .dataframe tbody tr th {\n",
       "        vertical-align: top;\n",
       "    }\n",
       "\n",
       "    .dataframe thead th {\n",
       "        text-align: right;\n",
       "    }\n",
       "</style>\n",
       "<table border=\"1\" class=\"dataframe\">\n",
       "  <thead>\n",
       "    <tr style=\"text-align: right;\">\n",
       "      <th></th>\n",
       "      <th>Model</th>\n",
       "      <th>Accuracy</th>\n",
       "      <th>Precision</th>\n",
       "    </tr>\n",
       "  </thead>\n",
       "  <tbody>\n",
       "    <tr>\n",
       "      <th>4</th>\n",
       "      <td>Logistic Regression</td>\n",
       "      <td>0.975775</td>\n",
       "      <td>0.966102</td>\n",
       "    </tr>\n",
       "    <tr>\n",
       "      <th>7</th>\n",
       "      <td>Extra Tree Classifier</td>\n",
       "      <td>0.974806</td>\n",
       "      <td>1.000000</td>\n",
       "    </tr>\n",
       "    <tr>\n",
       "      <th>8</th>\n",
       "      <td>XGB Classifier</td>\n",
       "      <td>0.974806</td>\n",
       "      <td>1.000000</td>\n",
       "    </tr>\n",
       "    <tr>\n",
       "      <th>2</th>\n",
       "      <td>Multinomial Naive Bayes</td>\n",
       "      <td>0.970930</td>\n",
       "      <td>0.867133</td>\n",
       "    </tr>\n",
       "    <tr>\n",
       "      <th>5</th>\n",
       "      <td>Random Forest Classifier</td>\n",
       "      <td>0.968992</td>\n",
       "      <td>1.000000</td>\n",
       "    </tr>\n",
       "    <tr>\n",
       "      <th>3</th>\n",
       "      <td>Decision Tree</td>\n",
       "      <td>0.966085</td>\n",
       "      <td>0.903226</td>\n",
       "    </tr>\n",
       "    <tr>\n",
       "      <th>6</th>\n",
       "      <td>AdaBoost Classifier</td>\n",
       "      <td>0.957364</td>\n",
       "      <td>0.925234</td>\n",
       "    </tr>\n",
       "    <tr>\n",
       "      <th>0</th>\n",
       "      <td>SVC</td>\n",
       "      <td>0.927326</td>\n",
       "      <td>0.750000</td>\n",
       "    </tr>\n",
       "    <tr>\n",
       "      <th>1</th>\n",
       "      <td>KNeighbours</td>\n",
       "      <td>0.906977</td>\n",
       "      <td>1.000000</td>\n",
       "    </tr>\n",
       "  </tbody>\n",
       "</table>\n",
       "</div>"
      ],
      "text/plain": [
       "                      Model  Accuracy  Precision\n",
       "4       Logistic Regression  0.975775   0.966102\n",
       "7     Extra Tree Classifier  0.974806   1.000000\n",
       "8            XGB Classifier  0.974806   1.000000\n",
       "2   Multinomial Naive Bayes  0.970930   0.867133\n",
       "5  Random Forest Classifier  0.968992   1.000000\n",
       "3             Decision Tree  0.966085   0.903226\n",
       "6       AdaBoost Classifier  0.957364   0.925234\n",
       "0                       SVC  0.927326   0.750000\n",
       "1               KNeighbours  0.906977   1.000000"
      ]
     },
     "execution_count": 40,
     "metadata": {},
     "output_type": "execute_result"
    }
   ],
   "source": [
    "evaluation_df"
   ]
  },
  {
   "cell_type": "code",
   "execution_count": 42,
   "id": "0ccbf430",
   "metadata": {},
   "outputs": [
    {
     "name": "stdout",
     "output_type": "stream",
     "text": [
      "We can clearly see out of all the models Extra Tree Classifier is the best model with accuracy of 0.9748062015503876 and precision of 1.0\n"
     ]
    }
   ],
   "source": [
    "print(f\"We can clearly see out of all the models Extra Tree Classifier is the best model with accuracy of {accuracy_etc} and precision of {precision_etc}\")"
   ]
  },
  {
   "cell_type": "code",
   "execution_count": 43,
   "id": "6cc47799",
   "metadata": {},
   "outputs": [
    {
     "data": {
      "application/vnd.plotly.v1+json": {
       "config": {
        "plotlyServerURL": "https://plot.ly"
       },
       "data": [
        {
         "marker": {
          "color": "skyblue"
         },
         "name": "Accuracy",
         "type": "bar",
         "x": [
          "SVC",
          "KNN",
          "MultinomialNB",
          "Decision Tree",
          "Logistic Regression",
          "Random Forest",
          "AdaBoost",
          "Extra Tree",
          "XGBoost"
         ],
         "y": [
          0.9273255813953488,
          0.9069767441860465,
          0.9709302325581395,
          0.9660852713178295,
          0.9757751937984496,
          0.9689922480620154,
          0.9573643410852714,
          0.9748062015503876,
          0.9748062015503876
         ]
        },
        {
         "marker": {
          "color": "salmon"
         },
         "name": "Precision",
         "type": "bar",
         "x": [
          "SVC",
          "KNN",
          "MultinomialNB",
          "Decision Tree",
          "Logistic Regression",
          "Random Forest",
          "AdaBoost",
          "Extra Tree",
          "XGBoost"
         ],
         "y": [
          0.75,
          1,
          0.8671328671328671,
          0.9032258064516129,
          0.9661016949152542,
          1,
          0.9252336448598131,
          1,
          1
         ]
        }
       ],
       "layout": {
        "barmode": "group",
        "template": {
         "data": {
          "bar": [
           {
            "error_x": {
             "color": "#2a3f5f"
            },
            "error_y": {
             "color": "#2a3f5f"
            },
            "marker": {
             "line": {
              "color": "#E5ECF6",
              "width": 0.5
             },
             "pattern": {
              "fillmode": "overlay",
              "size": 10,
              "solidity": 0.2
             }
            },
            "type": "bar"
           }
          ],
          "barpolar": [
           {
            "marker": {
             "line": {
              "color": "#E5ECF6",
              "width": 0.5
             },
             "pattern": {
              "fillmode": "overlay",
              "size": 10,
              "solidity": 0.2
             }
            },
            "type": "barpolar"
           }
          ],
          "carpet": [
           {
            "aaxis": {
             "endlinecolor": "#2a3f5f",
             "gridcolor": "white",
             "linecolor": "white",
             "minorgridcolor": "white",
             "startlinecolor": "#2a3f5f"
            },
            "baxis": {
             "endlinecolor": "#2a3f5f",
             "gridcolor": "white",
             "linecolor": "white",
             "minorgridcolor": "white",
             "startlinecolor": "#2a3f5f"
            },
            "type": "carpet"
           }
          ],
          "choropleth": [
           {
            "colorbar": {
             "outlinewidth": 0,
             "ticks": ""
            },
            "type": "choropleth"
           }
          ],
          "contour": [
           {
            "colorbar": {
             "outlinewidth": 0,
             "ticks": ""
            },
            "colorscale": [
             [
              0,
              "#0d0887"
             ],
             [
              0.1111111111111111,
              "#46039f"
             ],
             [
              0.2222222222222222,
              "#7201a8"
             ],
             [
              0.3333333333333333,
              "#9c179e"
             ],
             [
              0.4444444444444444,
              "#bd3786"
             ],
             [
              0.5555555555555556,
              "#d8576b"
             ],
             [
              0.6666666666666666,
              "#ed7953"
             ],
             [
              0.7777777777777778,
              "#fb9f3a"
             ],
             [
              0.8888888888888888,
              "#fdca26"
             ],
             [
              1,
              "#f0f921"
             ]
            ],
            "type": "contour"
           }
          ],
          "contourcarpet": [
           {
            "colorbar": {
             "outlinewidth": 0,
             "ticks": ""
            },
            "type": "contourcarpet"
           }
          ],
          "heatmap": [
           {
            "colorbar": {
             "outlinewidth": 0,
             "ticks": ""
            },
            "colorscale": [
             [
              0,
              "#0d0887"
             ],
             [
              0.1111111111111111,
              "#46039f"
             ],
             [
              0.2222222222222222,
              "#7201a8"
             ],
             [
              0.3333333333333333,
              "#9c179e"
             ],
             [
              0.4444444444444444,
              "#bd3786"
             ],
             [
              0.5555555555555556,
              "#d8576b"
             ],
             [
              0.6666666666666666,
              "#ed7953"
             ],
             [
              0.7777777777777778,
              "#fb9f3a"
             ],
             [
              0.8888888888888888,
              "#fdca26"
             ],
             [
              1,
              "#f0f921"
             ]
            ],
            "type": "heatmap"
           }
          ],
          "heatmapgl": [
           {
            "colorbar": {
             "outlinewidth": 0,
             "ticks": ""
            },
            "colorscale": [
             [
              0,
              "#0d0887"
             ],
             [
              0.1111111111111111,
              "#46039f"
             ],
             [
              0.2222222222222222,
              "#7201a8"
             ],
             [
              0.3333333333333333,
              "#9c179e"
             ],
             [
              0.4444444444444444,
              "#bd3786"
             ],
             [
              0.5555555555555556,
              "#d8576b"
             ],
             [
              0.6666666666666666,
              "#ed7953"
             ],
             [
              0.7777777777777778,
              "#fb9f3a"
             ],
             [
              0.8888888888888888,
              "#fdca26"
             ],
             [
              1,
              "#f0f921"
             ]
            ],
            "type": "heatmapgl"
           }
          ],
          "histogram": [
           {
            "marker": {
             "pattern": {
              "fillmode": "overlay",
              "size": 10,
              "solidity": 0.2
             }
            },
            "type": "histogram"
           }
          ],
          "histogram2d": [
           {
            "colorbar": {
             "outlinewidth": 0,
             "ticks": ""
            },
            "colorscale": [
             [
              0,
              "#0d0887"
             ],
             [
              0.1111111111111111,
              "#46039f"
             ],
             [
              0.2222222222222222,
              "#7201a8"
             ],
             [
              0.3333333333333333,
              "#9c179e"
             ],
             [
              0.4444444444444444,
              "#bd3786"
             ],
             [
              0.5555555555555556,
              "#d8576b"
             ],
             [
              0.6666666666666666,
              "#ed7953"
             ],
             [
              0.7777777777777778,
              "#fb9f3a"
             ],
             [
              0.8888888888888888,
              "#fdca26"
             ],
             [
              1,
              "#f0f921"
             ]
            ],
            "type": "histogram2d"
           }
          ],
          "histogram2dcontour": [
           {
            "colorbar": {
             "outlinewidth": 0,
             "ticks": ""
            },
            "colorscale": [
             [
              0,
              "#0d0887"
             ],
             [
              0.1111111111111111,
              "#46039f"
             ],
             [
              0.2222222222222222,
              "#7201a8"
             ],
             [
              0.3333333333333333,
              "#9c179e"
             ],
             [
              0.4444444444444444,
              "#bd3786"
             ],
             [
              0.5555555555555556,
              "#d8576b"
             ],
             [
              0.6666666666666666,
              "#ed7953"
             ],
             [
              0.7777777777777778,
              "#fb9f3a"
             ],
             [
              0.8888888888888888,
              "#fdca26"
             ],
             [
              1,
              "#f0f921"
             ]
            ],
            "type": "histogram2dcontour"
           }
          ],
          "mesh3d": [
           {
            "colorbar": {
             "outlinewidth": 0,
             "ticks": ""
            },
            "type": "mesh3d"
           }
          ],
          "parcoords": [
           {
            "line": {
             "colorbar": {
              "outlinewidth": 0,
              "ticks": ""
             }
            },
            "type": "parcoords"
           }
          ],
          "pie": [
           {
            "automargin": true,
            "type": "pie"
           }
          ],
          "scatter": [
           {
            "fillpattern": {
             "fillmode": "overlay",
             "size": 10,
             "solidity": 0.2
            },
            "type": "scatter"
           }
          ],
          "scatter3d": [
           {
            "line": {
             "colorbar": {
              "outlinewidth": 0,
              "ticks": ""
             }
            },
            "marker": {
             "colorbar": {
              "outlinewidth": 0,
              "ticks": ""
             }
            },
            "type": "scatter3d"
           }
          ],
          "scattercarpet": [
           {
            "marker": {
             "colorbar": {
              "outlinewidth": 0,
              "ticks": ""
             }
            },
            "type": "scattercarpet"
           }
          ],
          "scattergeo": [
           {
            "marker": {
             "colorbar": {
              "outlinewidth": 0,
              "ticks": ""
             }
            },
            "type": "scattergeo"
           }
          ],
          "scattergl": [
           {
            "marker": {
             "colorbar": {
              "outlinewidth": 0,
              "ticks": ""
             }
            },
            "type": "scattergl"
           }
          ],
          "scattermapbox": [
           {
            "marker": {
             "colorbar": {
              "outlinewidth": 0,
              "ticks": ""
             }
            },
            "type": "scattermapbox"
           }
          ],
          "scatterpolar": [
           {
            "marker": {
             "colorbar": {
              "outlinewidth": 0,
              "ticks": ""
             }
            },
            "type": "scatterpolar"
           }
          ],
          "scatterpolargl": [
           {
            "marker": {
             "colorbar": {
              "outlinewidth": 0,
              "ticks": ""
             }
            },
            "type": "scatterpolargl"
           }
          ],
          "scatterternary": [
           {
            "marker": {
             "colorbar": {
              "outlinewidth": 0,
              "ticks": ""
             }
            },
            "type": "scatterternary"
           }
          ],
          "surface": [
           {
            "colorbar": {
             "outlinewidth": 0,
             "ticks": ""
            },
            "colorscale": [
             [
              0,
              "#0d0887"
             ],
             [
              0.1111111111111111,
              "#46039f"
             ],
             [
              0.2222222222222222,
              "#7201a8"
             ],
             [
              0.3333333333333333,
              "#9c179e"
             ],
             [
              0.4444444444444444,
              "#bd3786"
             ],
             [
              0.5555555555555556,
              "#d8576b"
             ],
             [
              0.6666666666666666,
              "#ed7953"
             ],
             [
              0.7777777777777778,
              "#fb9f3a"
             ],
             [
              0.8888888888888888,
              "#fdca26"
             ],
             [
              1,
              "#f0f921"
             ]
            ],
            "type": "surface"
           }
          ],
          "table": [
           {
            "cells": {
             "fill": {
              "color": "#EBF0F8"
             },
             "line": {
              "color": "white"
             }
            },
            "header": {
             "fill": {
              "color": "#C8D4E3"
             },
             "line": {
              "color": "white"
             }
            },
            "type": "table"
           }
          ]
         },
         "layout": {
          "annotationdefaults": {
           "arrowcolor": "#2a3f5f",
           "arrowhead": 0,
           "arrowwidth": 1
          },
          "autotypenumbers": "strict",
          "coloraxis": {
           "colorbar": {
            "outlinewidth": 0,
            "ticks": ""
           }
          },
          "colorscale": {
           "diverging": [
            [
             0,
             "#8e0152"
            ],
            [
             0.1,
             "#c51b7d"
            ],
            [
             0.2,
             "#de77ae"
            ],
            [
             0.3,
             "#f1b6da"
            ],
            [
             0.4,
             "#fde0ef"
            ],
            [
             0.5,
             "#f7f7f7"
            ],
            [
             0.6,
             "#e6f5d0"
            ],
            [
             0.7,
             "#b8e186"
            ],
            [
             0.8,
             "#7fbc41"
            ],
            [
             0.9,
             "#4d9221"
            ],
            [
             1,
             "#276419"
            ]
           ],
           "sequential": [
            [
             0,
             "#0d0887"
            ],
            [
             0.1111111111111111,
             "#46039f"
            ],
            [
             0.2222222222222222,
             "#7201a8"
            ],
            [
             0.3333333333333333,
             "#9c179e"
            ],
            [
             0.4444444444444444,
             "#bd3786"
            ],
            [
             0.5555555555555556,
             "#d8576b"
            ],
            [
             0.6666666666666666,
             "#ed7953"
            ],
            [
             0.7777777777777778,
             "#fb9f3a"
            ],
            [
             0.8888888888888888,
             "#fdca26"
            ],
            [
             1,
             "#f0f921"
            ]
           ],
           "sequentialminus": [
            [
             0,
             "#0d0887"
            ],
            [
             0.1111111111111111,
             "#46039f"
            ],
            [
             0.2222222222222222,
             "#7201a8"
            ],
            [
             0.3333333333333333,
             "#9c179e"
            ],
            [
             0.4444444444444444,
             "#bd3786"
            ],
            [
             0.5555555555555556,
             "#d8576b"
            ],
            [
             0.6666666666666666,
             "#ed7953"
            ],
            [
             0.7777777777777778,
             "#fb9f3a"
            ],
            [
             0.8888888888888888,
             "#fdca26"
            ],
            [
             1,
             "#f0f921"
            ]
           ]
          },
          "colorway": [
           "#636efa",
           "#EF553B",
           "#00cc96",
           "#ab63fa",
           "#FFA15A",
           "#19d3f3",
           "#FF6692",
           "#B6E880",
           "#FF97FF",
           "#FECB52"
          ],
          "font": {
           "color": "#2a3f5f"
          },
          "geo": {
           "bgcolor": "white",
           "lakecolor": "white",
           "landcolor": "#E5ECF6",
           "showlakes": true,
           "showland": true,
           "subunitcolor": "white"
          },
          "hoverlabel": {
           "align": "left"
          },
          "hovermode": "closest",
          "mapbox": {
           "style": "light"
          },
          "paper_bgcolor": "white",
          "plot_bgcolor": "#E5ECF6",
          "polar": {
           "angularaxis": {
            "gridcolor": "white",
            "linecolor": "white",
            "ticks": ""
           },
           "bgcolor": "#E5ECF6",
           "radialaxis": {
            "gridcolor": "white",
            "linecolor": "white",
            "ticks": ""
           }
          },
          "scene": {
           "xaxis": {
            "backgroundcolor": "#E5ECF6",
            "gridcolor": "white",
            "gridwidth": 2,
            "linecolor": "white",
            "showbackground": true,
            "ticks": "",
            "zerolinecolor": "white"
           },
           "yaxis": {
            "backgroundcolor": "#E5ECF6",
            "gridcolor": "white",
            "gridwidth": 2,
            "linecolor": "white",
            "showbackground": true,
            "ticks": "",
            "zerolinecolor": "white"
           },
           "zaxis": {
            "backgroundcolor": "#E5ECF6",
            "gridcolor": "white",
            "gridwidth": 2,
            "linecolor": "white",
            "showbackground": true,
            "ticks": "",
            "zerolinecolor": "white"
           }
          },
          "shapedefaults": {
           "line": {
            "color": "#2a3f5f"
           }
          },
          "ternary": {
           "aaxis": {
            "gridcolor": "white",
            "linecolor": "white",
            "ticks": ""
           },
           "baxis": {
            "gridcolor": "white",
            "linecolor": "white",
            "ticks": ""
           },
           "bgcolor": "#E5ECF6",
           "caxis": {
            "gridcolor": "white",
            "linecolor": "white",
            "ticks": ""
           }
          },
          "title": {
           "x": 0.05
          },
          "xaxis": {
           "automargin": true,
           "gridcolor": "white",
           "linecolor": "white",
           "ticks": "",
           "title": {
            "standoff": 15
           },
           "zerolinecolor": "white",
           "zerolinewidth": 2
          },
          "yaxis": {
           "automargin": true,
           "gridcolor": "white",
           "linecolor": "white",
           "ticks": "",
           "title": {
            "standoff": 15
           },
           "zerolinecolor": "white",
           "zerolinewidth": 2
          }
         }
        },
        "title": {
         "text": "Accuracy and Precision of Different Models"
        },
        "xaxis": {
         "title": {
          "text": "Models"
         }
        },
        "yaxis": {
         "title": {
          "text": "Score"
         }
        }
       }
      }
     },
     "metadata": {},
     "output_type": "display_data"
    }
   ],
   "source": [
    "import plotly.graph_objects as go\n",
    "\n",
    "# Define the models and their accuracies and precisions\n",
    "models = ['SVC', 'KNN', 'MultinomialNB', 'Decision Tree', 'Logistic Regression', 'Random Forest', 'AdaBoost', 'Extra Tree', 'XGBoost']\n",
    "accuracies = [accuracy_svc, accuracy_knc, accuracy_mnb, accuracy_dtc, accuracy_lrc, accuracy_rfc, accuracy_abc, accuracy_etc, accuracy_xgb]\n",
    "precisions = [precision_svc, precision_knc, precision_mnb, precision_dtc, precision_lrc, precision_rfc, precision_abc, precision_etc, precision_xgb]\n",
    "\n",
    "# Create the figure\n",
    "fig = go.Figure()\n",
    "\n",
    "# Add bar traces for accuracy and precision\n",
    "fig.add_trace(go.Bar(\n",
    "    x=models,\n",
    "    y=accuracies,\n",
    "    name='Accuracy',\n",
    "    marker_color='skyblue'\n",
    "))\n",
    "fig.add_trace(go.Bar(\n",
    "    x=models,\n",
    "    y=precisions,\n",
    "    name='Precision',\n",
    "    marker_color='salmon'\n",
    "))\n",
    "\n",
    "# Update layout\n",
    "fig.update_layout(\n",
    "    title='Accuracy and Precision of Different Models',\n",
    "    xaxis=dict(title='Models'),\n",
    "    yaxis=dict(title='Score'),\n",
    "    barmode='group'  # Group bars for each model\n",
    ")\n",
    "\n",
    "# Show the plot\n",
    "fig.show()"
   ]
  },
  {
   "cell_type": "markdown",
   "id": "dc907b05",
   "metadata": {},
   "source": [
    "## Predictions"
   ]
  },
  {
   "cell_type": "code",
   "execution_count": 44,
   "id": "1b566d33",
   "metadata": {},
   "outputs": [
    {
     "data": {
      "text/html": [
       "<div>\n",
       "<style scoped>\n",
       "    .dataframe tbody tr th:only-of-type {\n",
       "        vertical-align: middle;\n",
       "    }\n",
       "\n",
       "    .dataframe tbody tr th {\n",
       "        vertical-align: top;\n",
       "    }\n",
       "\n",
       "    .dataframe thead th {\n",
       "        text-align: right;\n",
       "    }\n",
       "</style>\n",
       "<table border=\"1\" class=\"dataframe\">\n",
       "  <thead>\n",
       "    <tr style=\"text-align: right;\">\n",
       "      <th></th>\n",
       "      <th>Category</th>\n",
       "      <th>Message</th>\n",
       "      <th>text_sent_token</th>\n",
       "      <th>stem_msg</th>\n",
       "    </tr>\n",
       "  </thead>\n",
       "  <tbody>\n",
       "    <tr>\n",
       "      <th>0</th>\n",
       "      <td>ham</td>\n",
       "      <td>go jurong point crazy available bugis n great ...</td>\n",
       "      <td>[go jurong point crazy available bugis n great...</td>\n",
       "      <td>go jurong point crazi avail bugi n great world...</td>\n",
       "    </tr>\n",
       "    <tr>\n",
       "      <th>1</th>\n",
       "      <td>ham</td>\n",
       "      <td>ok lar joking wif u oni</td>\n",
       "      <td>[ok lar joking wif u oni]</td>\n",
       "      <td>ok lar joke wif u oni</td>\n",
       "    </tr>\n",
       "    <tr>\n",
       "      <th>2</th>\n",
       "      <td>spam</td>\n",
       "      <td>free entry 2 wkly comp win fa cup final tkts 2...</td>\n",
       "      <td>[free entry 2 wkly comp win fa cup final tkts ...</td>\n",
       "      <td>free entri 2 wkli comp win fa cup final tkt 21...</td>\n",
       "    </tr>\n",
       "    <tr>\n",
       "      <th>3</th>\n",
       "      <td>ham</td>\n",
       "      <td>u dun say early hor u c already say</td>\n",
       "      <td>[u dun say early hor u c already say]</td>\n",
       "      <td>u dun say earli hor u c alreadi say</td>\n",
       "    </tr>\n",
       "    <tr>\n",
       "      <th>4</th>\n",
       "      <td>ham</td>\n",
       "      <td>nah dont think goes usf lives around though</td>\n",
       "      <td>[nah dont think goes usf lives around though]</td>\n",
       "      <td>nah dont think goe usf live around though</td>\n",
       "    </tr>\n",
       "  </tbody>\n",
       "</table>\n",
       "</div>"
      ],
      "text/plain": [
       "  Category                                            Message  \\\n",
       "0      ham  go jurong point crazy available bugis n great ...   \n",
       "1      ham                            ok lar joking wif u oni   \n",
       "2     spam  free entry 2 wkly comp win fa cup final tkts 2...   \n",
       "3      ham                u dun say early hor u c already say   \n",
       "4      ham        nah dont think goes usf lives around though   \n",
       "\n",
       "                                     text_sent_token  \\\n",
       "0  [go jurong point crazy available bugis n great...   \n",
       "1                          [ok lar joking wif u oni]   \n",
       "2  [free entry 2 wkly comp win fa cup final tkts ...   \n",
       "3              [u dun say early hor u c already say]   \n",
       "4      [nah dont think goes usf lives around though]   \n",
       "\n",
       "                                            stem_msg  \n",
       "0  go jurong point crazi avail bugi n great world...  \n",
       "1                              ok lar joke wif u oni  \n",
       "2  free entri 2 wkli comp win fa cup final tkt 21...  \n",
       "3                u dun say earli hor u c alreadi say  \n",
       "4          nah dont think goe usf live around though  "
      ]
     },
     "execution_count": 44,
     "metadata": {},
     "output_type": "execute_result"
    }
   ],
   "source": [
    "df.head()"
   ]
  },
  {
   "cell_type": "code",
   "execution_count": 45,
   "id": "2ac5f105",
   "metadata": {},
   "outputs": [
    {
     "data": {
      "text/plain": [
       "'free entri 2 wkli comp win fa cup final tkt 21st may 2005 text fa 87121 receiv entri questionstd txt ratetc appli 08452810075over18'"
      ]
     },
     "execution_count": 45,
     "metadata": {},
     "output_type": "execute_result"
    }
   ],
   "source": [
    "df['stem_msg'][2]"
   ]
  },
  {
   "cell_type": "code",
   "execution_count": null,
   "id": "edd0588f",
   "metadata": {},
   "outputs": [],
   "source": []
  }
 ],
 "metadata": {
  "kernelspec": {
   "display_name": "base",
   "language": "python",
   "name": "python3"
  },
  "language_info": {
   "codemirror_mode": {
    "name": "ipython",
    "version": 3
   },
   "file_extension": ".py",
   "mimetype": "text/x-python",
   "name": "python",
   "nbconvert_exporter": "python",
   "pygments_lexer": "ipython3",
   "version": "3.11.5"
  }
 },
 "nbformat": 4,
 "nbformat_minor": 5
}
